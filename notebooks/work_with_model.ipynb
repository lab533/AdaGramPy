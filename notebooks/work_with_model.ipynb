{
 "cells": [
  {
   "cell_type": "code",
   "execution_count": 1,
   "metadata": {
    "collapsed": true
   },
   "outputs": [],
   "source": [
    "import sys\n",
    "import numpy as np\n",
    "sys.path.append(\"../src/\")\n",
    "from AdaGram import *"
   ]
  },
  {
   "cell_type": "code",
   "execution_count": 2,
   "metadata": {
    "collapsed": false
   },
   "outputs": [],
   "source": [
    "# тут небольшая коллекция новостных текстов\n",
    "# vm, vocab = load_model(\"../model/model.ada\")\n",
    "\n",
    "# википедийная модель\n",
    "vm, vocab = load_model(\"../model/model.ada\") "
   ]
  },
  {
   "cell_type": "code",
   "execution_count": 11,
   "metadata": {
    "collapsed": false
   },
   "outputs": [
    {
     "name": "stdout",
     "output_type": "stream",
     "text": [
      "2\n",
      "[  7.55183781e-01   2.44663240e-01   1.39069289e-04   1.26445904e-05\n",
      "   1.26474570e-06]\n"
     ]
    }
   ],
   "source": [
    "nsens, pr = expected_pi(vm, vocab.word2id[\"яблоко\"])\n",
    "print(nsens)\n",
    "print(pr)"
   ]
  },
  {
   "cell_type": "code",
   "execution_count": 19,
   "metadata": {
    "collapsed": false
   },
   "outputs": [
    {
     "name": "stderr",
     "output_type": "stream",
     "text": [
      "../src\\AdaGram.py:116: RuntimeWarning: divide by zero encountered in log\n",
      "  z = np.log(z)\n"
     ]
    },
    {
     "data": {
      "text/plain": [
       "array([ 0.02439008,  0.97560992,  0.        ,  0.        ,  0.        ])"
      ]
     },
     "execution_count": 19,
     "metadata": {},
     "output_type": "execute_result"
    }
   ],
   "source": [
    "disambiguate(vm, vocab, \"яблоко\", \"фрукт еда\".split())"
   ]
  },
  {
   "cell_type": "code",
   "execution_count": 20,
   "metadata": {
    "collapsed": false
   },
   "outputs": [
    {
     "name": "stderr",
     "output_type": "stream",
     "text": [
      "../src\\AdaGram.py:95: RuntimeWarning: invalid value encountered in true_divide\n",
      "  others = others / np.linalg.norm(others, axis=0)  # надо переписать\n"
     ]
    },
    {
     "data": {
      "text/plain": [
       "[(0.65542376, 'сладость', 0),\n",
       " (0.6008743, 'молоко', 0),\n",
       " (0.59833056, 'колбаса', 0),\n",
       " (0.59386837, 'капуста', 0),\n",
       " (0.58699322, 'квас', 0),\n",
       " (0.5863508, 'сыр', 0),\n",
       " (0.58203495, 'картофель', 0),\n",
       " (0.578614, 'лимонад', 0),\n",
       " (0.57520473, 'кока-кола', 0),\n",
       " (0.56977171, 'шоколад', 0)]"
      ]
     },
     "execution_count": 20,
     "metadata": {},
     "output_type": "execute_result"
    }
   ],
   "source": [
    "nearest_neighbors(vm, vocab, \"яблоко\", 1)"
   ]
  },
  {
   "cell_type": "code",
   "execution_count": 6,
   "metadata": {
    "collapsed": false
   },
   "outputs": [],
   "source": []
  },
  {
   "cell_type": "code",
   "execution_count": 7,
   "metadata": {
    "collapsed": true
   },
   "outputs": [],
   "source": []
  },
  {
   "cell_type": "code",
   "execution_count": null,
   "metadata": {
    "collapsed": false
   },
   "outputs": [],
   "source": []
  },
  {
   "cell_type": "code",
   "execution_count": null,
   "metadata": {
    "collapsed": true
   },
   "outputs": [],
   "source": []
  }
 ],
 "metadata": {
  "kernelspec": {
   "display_name": "Python 3",
   "language": "python",
   "name": "python3"
  },
  "language_info": {
   "codemirror_mode": {
    "name": "ipython",
    "version": 3
   },
   "file_extension": ".py",
   "mimetype": "text/x-python",
   "name": "python",
   "nbconvert_exporter": "python",
   "pygments_lexer": "ipython3",
   "version": "3.5.1"
  }
 },
 "nbformat": 4,
 "nbformat_minor": 1
}
